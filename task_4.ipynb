{
 "cells": [
  {
   "cell_type": "code",
   "execution_count": 1,
   "id": "11358096",
   "metadata": {},
   "outputs": [
    {
     "name": "stdout",
     "output_type": "stream",
     "text": [
      "Hi, I'm SimpleBot. Type something to start a conversation or type 'quit' to exit.\n",
      "> hey\n",
      "Hello! How can I help you today?\n",
      "> bye\n",
      "Goodbye! Have a great day.\n"
     ]
    }
   ],
   "source": [
    "import re\n",
    "\n",
    "def chatbot_response(text):\n",
    "    text = text.lower()\n",
    "\n",
    "    if re.search(r'hello|hi|hey', text):\n",
    "        return \"Hello! How can I help you today?\"\n",
    "    elif \"what is your name\" in text:\n",
    "        return \"I am a simple chatbot. You can call me SimpleBot.\"\n",
    "    elif \"how are you\" in text:\n",
    "        return \"I'm doing well, thank you! How can I help you?\"\n",
    "    elif re.search(r'bye|goodbye|quit', text):\n",
    "        return \"Goodbye! Have a great day.\"\n",
    "    else:\n",
    "        return \"I'm not sure how to respond to that. Can you please rephrase or ask a different question?\"\n",
    "\n",
    "print(\"Hi, I'm SimpleBot. Type something to start a conversation or type 'quit' to exit.\")\n",
    "\n",
    "while True:\n",
    "    user_input = input(\"> \").strip()\n",
    "    if user_input.lower() in ['quit', 'bye', 'goodbye']:\n",
    "        print(\"Goodbye! Have a great day.\")\n",
    "        break\n",
    "\n",
    "    response = chatbot_response(user_input)\n",
    "    print(response)"
   ]
  },
  {
   "cell_type": "code",
   "execution_count": null,
   "id": "a8743d2b",
   "metadata": {},
   "outputs": [],
   "source": []
  }
 ],
 "metadata": {
  "kernelspec": {
   "display_name": "Python 3 (ipykernel)",
   "language": "python",
   "name": "python3"
  },
  "language_info": {
   "codemirror_mode": {
    "name": "ipython",
    "version": 3
   },
   "file_extension": ".py",
   "mimetype": "text/x-python",
   "name": "python",
   "nbconvert_exporter": "python",
   "pygments_lexer": "ipython3",
   "version": "3.9.13"
  }
 },
 "nbformat": 4,
 "nbformat_minor": 5
}
